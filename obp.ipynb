{
 "cells": [
  {
   "cell_type": "code",
   "execution_count": 75,
   "metadata": {},
   "outputs": [],
   "source": [
    "# import packages\n",
    "import numpy as np\n",
    "import matplotlib.pyplot as plt\n",
    "import pandas as pd\n",
    "import re "
   ]
  },
  {
   "cell_type": "code",
   "execution_count": 76,
   "metadata": {},
   "outputs": [
    {
     "data": {
      "text/plain": [
       "jericho_human_classification\n",
       "ham      590\n",
       "phish     22\n",
       "spam     539\n",
       "dtype: int64"
      ]
     },
     "execution_count": 76,
     "metadata": {},
     "output_type": "execute_result"
    }
   ],
   "source": [
    "# import and analyse dataset\n",
    "labels = pd.read_csv('labels_and_ids.csv')\n",
    "labels.groupby('jericho_human_classification').size()"
   ]
  },
  {
   "cell_type": "code",
   "execution_count": 77,
   "metadata": {},
   "outputs": [
    {
     "name": "stdout",
     "output_type": "stream",
     "text": [
      "(728, 3) (556, 3) (25, 3)\n",
      "<class 'pandas.core.frame.DataFrame'>\n",
      "Index: 75 entries, 114 to 1148\n",
      "Data columns (total 3 columns):\n",
      " #   Column                        Non-Null Count  Dtype \n",
      "---  ------                        --------------  ----- \n",
      " 0   id                            75 non-null     int64 \n",
      " 1   jericho_human_classification  75 non-null     object\n",
      " 2   inbound_event_ids             75 non-null     object\n",
      "dtypes: int64(1), object(2)\n",
      "memory usage: 2.3+ KB\n"
     ]
    }
   ],
   "source": [
    "# flatten inbound_event_ids\n",
    "labels.loc[:, 'inbound_event_ids'] = labels['inbound_event_ids'].apply(lambda x: x.removeprefix('[').removesuffix(']').split(','))\n",
    "labels = labels.explode('inbound_event_ids')\n",
    "# remove duplicates\n",
    "labels = labels.drop_duplicates(subset='inbound_event_ids')\n",
    "# convert inbound_event_ids to int\n",
    "labels.loc[:, 'inbound_event_ids'] = labels['inbound_event_ids'].astype(int)\n",
    "# down sample to match phish\n",
    "ham_labels = labels[labels['jericho_human_classification'] == 'ham']\n",
    "spam_labels = labels[labels['jericho_human_classification'] == 'spam']\n",
    "phish_labels = labels[labels['jericho_human_classification'] == 'phish']\n",
    "print(ham_labels.shape, spam_labels.shape, phish_labels.shape)\n",
    "ham_labels = ham_labels.sample(n=phish_labels.shape[0], random_state=42)\n",
    "spam_labels = spam_labels.sample(n=phish_labels.shape[0], random_state=42)\n",
    "labels = pd.concat([ham_labels, spam_labels, phish_labels])\n",
    "labels.info()\n",
    "# save to ids to text\n",
    "for i in labels['inbound_event_ids']:\n",
    "    with open('ids.txt', 'a') as f:\n",
    "        f.write(f'{i},')\n"
   ]
  },
  {
   "cell_type": "code",
   "execution_count": 78,
   "metadata": {},
   "outputs": [
    {
     "data": {
      "text/html": [
       "<div>\n",
       "<style scoped>\n",
       "    .dataframe tbody tr th:only-of-type {\n",
       "        vertical-align: middle;\n",
       "    }\n",
       "\n",
       "    .dataframe tbody tr th {\n",
       "        vertical-align: top;\n",
       "    }\n",
       "\n",
       "    .dataframe thead th {\n",
       "        text-align: right;\n",
       "    }\n",
       "</style>\n",
       "<table border=\"1\" class=\"dataframe\">\n",
       "  <thead>\n",
       "    <tr style=\"text-align: right;\">\n",
       "      <th></th>\n",
       "      <th>from</th>\n",
       "      <th>processed_subject</th>\n",
       "      <th>processed_body</th>\n",
       "      <th>payload</th>\n",
       "      <th>jericho_human_classification</th>\n",
       "      <th>inbound_event_ids</th>\n",
       "    </tr>\n",
       "  </thead>\n",
       "  <tbody>\n",
       "    <tr>\n",
       "      <th>0</th>\n",
       "      <td>no-reply@rentaequipospiedra.cl</td>\n",
       "      <td>9192-Jerichosecurity: Accept the proposal and ...</td>\n",
       "      <td>Docusign He‌llo sage@jerichosecurity.com\\nYo‌u...</td>\n",
       "      <td>{\"cc\":\"\",\"to\":\"sage@jerichosecurity.com\",\"bcc\"...</td>\n",
       "      <td>phish</td>\n",
       "      <td>208</td>\n",
       "    </tr>\n",
       "    <tr>\n",
       "      <th>1</th>\n",
       "      <td>deep@beeleads.com</td>\n",
       "      <td>Life of a Prospect- A Journey of Multiple Purc...</td>\n",
       "      <td>Life of a Prospect- A Journey of Multiple Purc...</td>\n",
       "      <td>{\"cc\":\"\",\"to\":\"alyssa.davis@jerichosecurity.co...</td>\n",
       "      <td>spam</td>\n",
       "      <td>402</td>\n",
       "    </tr>\n",
       "    <tr>\n",
       "      <th>2</th>\n",
       "      <td>no-reply@zoom.us</td>\n",
       "      <td>Ahmad Anderson has joined your meeting - Sales...</td>\n",
       "      <td>Hi  Madison Martin,  Ahmad Anderson has joined...</td>\n",
       "      <td>{\"cc\":\"\",\"to\":\"madison@jerichosecurity.com\",\"b...</td>\n",
       "      <td>ham</td>\n",
       "      <td>501</td>\n",
       "    </tr>\n",
       "    <tr>\n",
       "      <th>3</th>\n",
       "      <td>telmalogistics@gmail.com</td>\n",
       "      <td>Sage Wohns</td>\n",
       "      <td>Chris\\n---\\n\\nI need you to kindly leave your ...</td>\n",
       "      <td>{\"cc\":\"\",\"to\":\"chris@jerichosecurity.com\",\"bcc...</td>\n",
       "      <td>phish</td>\n",
       "      <td>509</td>\n",
       "    </tr>\n",
       "    <tr>\n",
       "      <th>4</th>\n",
       "      <td>attendurgent@gmail.com</td>\n",
       "      <td>Sage Wohns</td>\n",
       "      <td>Hello Chris,\\n\\n I have a task for you to comp...</td>\n",
       "      <td>{\"cc\":\"\",\"to\":\"chris@jerichosecurity.com\",\"bcc...</td>\n",
       "      <td>phish</td>\n",
       "      <td>638</td>\n",
       "    </tr>\n",
       "  </tbody>\n",
       "</table>\n",
       "</div>"
      ],
      "text/plain": [
       "                             from  \\\n",
       "0  no-reply@rentaequipospiedra.cl   \n",
       "1               deep@beeleads.com   \n",
       "2                no-reply@zoom.us   \n",
       "3        telmalogistics@gmail.com   \n",
       "4          attendurgent@gmail.com   \n",
       "\n",
       "                                   processed_subject  \\\n",
       "0  9192-Jerichosecurity: Accept the proposal and ...   \n",
       "1  Life of a Prospect- A Journey of Multiple Purc...   \n",
       "2  Ahmad Anderson has joined your meeting - Sales...   \n",
       "3                                         Sage Wohns   \n",
       "4                                         Sage Wohns   \n",
       "\n",
       "                                      processed_body  \\\n",
       "0  Docusign He‌llo sage@jerichosecurity.com\\nYo‌u...   \n",
       "1  Life of a Prospect- A Journey of Multiple Purc...   \n",
       "2  Hi  Madison Martin,  Ahmad Anderson has joined...   \n",
       "3  Chris\\n---\\n\\nI need you to kindly leave your ...   \n",
       "4  Hello Chris,\\n\\n I have a task for you to comp...   \n",
       "\n",
       "                                             payload  \\\n",
       "0  {\"cc\":\"\",\"to\":\"sage@jerichosecurity.com\",\"bcc\"...   \n",
       "1  {\"cc\":\"\",\"to\":\"alyssa.davis@jerichosecurity.co...   \n",
       "2  {\"cc\":\"\",\"to\":\"madison@jerichosecurity.com\",\"b...   \n",
       "3  {\"cc\":\"\",\"to\":\"chris@jerichosecurity.com\",\"bcc...   \n",
       "4  {\"cc\":\"\",\"to\":\"chris@jerichosecurity.com\",\"bcc...   \n",
       "\n",
       "  jericho_human_classification  inbound_event_ids  \n",
       "0                        phish                208  \n",
       "1                         spam                402  \n",
       "2                          ham                501  \n",
       "3                        phish                509  \n",
       "4                        phish                638  "
      ]
     },
     "execution_count": 78,
     "metadata": {},
     "output_type": "execute_result"
    }
   ],
   "source": [
    "obj_df = pd.read_csv('email_data.csv')\n",
    "# merge with labels\n",
    "obj_df = obj_df.merge(labels, left_on='id', right_on='inbound_event_ids')\n",
    "obj_df = obj_df.drop(columns=['id_x', 'id_y'])\n",
    "obj_df['processed_body'] = obj_df['processed_body'].astype(str)\n",
    "obj_df['processed_subject'] = obj_df['processed_subject'].astype(str)\n",
    "obj_df['jericho_human_classification'] = obj_df['jericho_human_classification'].astype(str)\n",
    "obj_df['inbound_event_ids'] = obj_df['inbound_event_ids'].astype(int)\n",
    "obj_df.head()"
   ]
  },
  {
   "cell_type": "code",
   "execution_count": 79,
   "metadata": {},
   "outputs": [],
   "source": [
    "# preparation of data\n",
    "from sklearn.model_selection import train_test_split\n",
    "from sklearn.model_selection import LeaveOneOut\n",
    "from sklearn.preprocessing import LabelEncoder\n",
    "from sklearn.feature_extraction.text import CountVectorizer\n",
    "encoder = LabelEncoder()\n",
    "def simplify_text(text):\n",
    "    text = text.lower()\n",
    "    text = text.replace('\\n', ' ')\n",
    "    text = text.replace('\\r', ' ')\n",
    "    text = text.replace('\\t', ' ')\n",
    "    # remove non text characters\n",
    "    text = ''.join([i for i in text if i.isalnum() or i == ' '])\n",
    "    return text\n",
    "def count_generic_greeting(text):\n",
    "    count = 0\n",
    "    generic_references = [\n",
    "    \"customer\",\n",
    "    \"friend\",\n",
    "    \"user\",\n",
    "    \"sir\",\n",
    "    \"madam\",\n",
    "    \"member\",\n",
    "    \"client\",\n",
    "    \"beneficiary\",\n",
    "    \"subscriber\",\n",
    "    \"account holder\",\n",
    "    \"colleague\",\n",
    "    \"team member\",\n",
    "    \"partner\",\n",
    "    \"recipient\",\n",
    "    \"patron\"\n",
    "    ]\n",
    "    for ref in generic_references:\n",
    "        count += text.lower().count(ref)\n",
    "    return count\n",
    "\n",
    "obj_df['processed_body'] = obj_df['processed_body'].apply(simplify_text)\n",
    "obj_df['processed_subject'] = obj_df['processed_subject'].apply(simplify_text)\n",
    "obj_df['jericho_human_classification'] = encoder.fit_transform(obj_df['jericho_human_classification'])\n",
    "sender = obj_df['from'].apply(lambda x: x.split('@')[0])\n",
    "sender_domain = obj_df['from'].apply(lambda x: x.split('@')[1])\n",
    "sender = CountVectorizer().fit_transform(sender)\n",
    "sender_domain = CountVectorizer().fit_transform(sender_domain)\n",
    "vectorized_subject = CountVectorizer().fit_transform(obj_df['processed_subject'])\n",
    "# additional features\n",
    "has_noreply = obj_df['payload'].apply(lambda x: 1 if 'noreply' in x else 0)\n",
    "spf_pass = obj_df['payload'].apply(lambda x: 1 if 'spf=pass' in x else 0)\n",
    "spf_fail = obj_df['payload'].apply(lambda x: 1 if 'spf=fail' in x else 0)\n",
    "dkim_pass = obj_df['payload'].apply(lambda x: 1 if 'dkim=pass' in x else 0)\n",
    "dkim_fail = obj_df['payload'].apply(lambda x: 1 if 'dkim=fail' in x else 0)\n",
    "dmarc_pass = obj_df['payload'].apply(lambda x: 1 if 'dmarc=pass' in x else 0)\n",
    "dmarc_fail = obj_df['payload'].apply(lambda x: 1 if 'dmarc=fail' in x else 0)\n",
    "generic_greetings = obj_df['processed_body'].apply(count_generic_greeting)"
   ]
  },
  {
   "cell_type": "code",
   "execution_count": null,
   "metadata": {},
   "outputs": [],
   "source": [
    "X = np.concatenate((sender.toarray(), sender_domain.toarray(), vectorized_subject.toarray(), dataset.drop(columns='classification').values), axis=1)\n",
    "y_true = []\n",
    "y_pred = []\n",
    "loo = LeaveOneOut()\n",
    "for train_index, test_index in loo.split(X):\n",
    "    X_train, X_test = X[train_index], X[test_index]\n",
    "    y_train, y_test = y[train_index], y[test_index]\n",
    "    clf = MultinomialNB()\n",
    "    clf.fit(X_train, y_train)\n",
    "    y_pred.append(clf.predict(X_test))\n",
    "    y_true.append(y_test)\n",
    "\n",
    "print(classification_report(y_true, y_pred, target_names=encoder.classes_))"
   ]
  },
  {
   "cell_type": "code",
   "execution_count": 91,
   "metadata": {},
   "outputs": [
    {
     "data": {
      "image/png": "[encoded data removed]",
      "text/plain": [
       "<Figure size 480x480 with 2 Axes>"
      ]
     },
     "metadata": {},
     "output_type": "display_data"
    }
   ],
   "source": [
    "from sklearn.naive_bayes import MultinomialNB\n",
    "from sklearn.metrics import classification_report\n",
    "\n",
    "dataset = pd.DataFrame({ 'has_noreply': has_noreply,\n",
    "                        'spf_pass': spf_pass,\n",
    "                        'spf_fail': spf_fail,\n",
    "                        'dkim_pass': dkim_pass,\n",
    "                        'dkim_fail': dkim_fail,\n",
    "                        'dmarc_pass': dmarc_pass,\n",
    "                        'dmarc_fail': dmarc_fail,\n",
    "                        'generic_greetings': generic_greetings,\n",
    "                        'classification': obj_df['jericho_human_classification']})\n",
    "corr = dataset.corr()\n",
    "plt.matshow(corr, cmap='coolwarm')\n",
    "plt.yticks(range(len(corr.columns)), corr.columns)\n",
    "plt.xticks(range(len(corr.columns)), corr.columns, rotation=90)\n",
    "cb = plt.colorbar()\n",
    "# show column names"
   ]
  }
 ],
 "metadata": {
  "kernelspec": {
   "display_name": ".venv",
   "language": "python",
   "name": "python3"
  },
  "language_info": {
   "codemirror_mode": {
    "name": "ipython",
    "version": 3
   },
   "file_extension": ".py",
   "mimetype": "text/x-python",
   "name": "python",
   "nbconvert_exporter": "python",
   "pygments_lexer": "ipython3",
   "version": "3.10.7"
  }
 },
 "nbformat": 4,
 "nbformat_minor": 2
}
