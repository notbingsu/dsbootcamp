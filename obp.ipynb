{
 "cells": [
  {
   "cell_type": "code",
   "execution_count": 111,
   "metadata": {},
   "outputs": [],
   "source": [
    "# import packages\n",
    "import numpy as np\n",
    "import matplotlib.pyplot as plt\n",
    "import pandas as pd\n",
    "import re "
   ]
  },
  {
   "cell_type": "code",
   "execution_count": 112,
   "metadata": {},
   "outputs": [
    {
     "data": {
      "text/plain": [
       "jericho_human_classification\n",
       "ham      590\n",
       "phish     22\n",
       "spam     539\n",
       "dtype: int64"
      ]
     },
     "execution_count": 112,
     "metadata": {},
     "output_type": "execute_result"
    }
   ],
   "source": [
    "# import and analyse dataset\n",
    "labels = pd.read_csv('labels_and_ids.csv')\n",
    "labels.groupby('jericho_human_classification').size()"
   ]
  },
  {
   "cell_type": "code",
   "execution_count": 113,
   "metadata": {},
   "outputs": [
    {
     "name": "stdout",
     "output_type": "stream",
     "text": [
      "(728, 3) (556, 3) (25, 3)\n",
      "<class 'pandas.core.frame.DataFrame'>\n",
      "Index: 1309 entries, 1 to 1148\n",
      "Data columns (total 3 columns):\n",
      " #   Column                        Non-Null Count  Dtype \n",
      "---  ------                        --------------  ----- \n",
      " 0   id                            1309 non-null   int64 \n",
      " 1   jericho_human_classification  1309 non-null   object\n",
      " 2   inbound_event_ids             1309 non-null   object\n",
      "dtypes: int64(1), object(2)\n",
      "memory usage: 40.9+ KB\n"
     ]
    }
   ],
   "source": [
    "# flatten inbound_event_ids\n",
    "labels.loc[:, 'inbound_event_ids'] = labels['inbound_event_ids'].apply(lambda x: x.removeprefix('[').removesuffix(']').split(','))\n",
    "labels = labels.explode('inbound_event_ids')\n",
    "# remove duplicates\n",
    "labels = labels.drop_duplicates(subset='inbound_event_ids')\n",
    "# convert inbound_event_ids to int\n",
    "labels.loc[:, 'inbound_event_ids'] = labels['inbound_event_ids'].astype(int)\n",
    "# down sample to match phish\n",
    "ham_labels = labels[labels['jericho_human_classification'] == 'ham']\n",
    "spam_labels = labels[labels['jericho_human_classification'] == 'spam']\n",
    "phish_labels = labels[labels['jericho_human_classification'] == 'phish']\n",
    "print(ham_labels.shape, spam_labels.shape, phish_labels.shape)\n",
    "# ham_labels = ham_labels.sample(n=phish_labels.shape[0], random_state=42)\n",
    "# spam_labels = spam_labels.sample(n=phish_labels.shape[0], random_state=42)\n",
    "labels = pd.concat([ham_labels, spam_labels, phish_labels])\n",
    "labels.info()\n",
    "# save to ids to text\n",
    "for i in labels['inbound_event_ids']:\n",
    "    with open('ids.txt', 'a') as f:\n",
    "        f.write(f'{i},')\n"
   ]
  },
  {
   "cell_type": "code",
   "execution_count": 114,
   "metadata": {},
   "outputs": [
    {
     "data": {
      "text/html": [
       "<div>\n",
       "<style scoped>\n",
       "    .dataframe tbody tr th:only-of-type {\n",
       "        vertical-align: middle;\n",
       "    }\n",
       "\n",
       "    .dataframe tbody tr th {\n",
       "        vertical-align: top;\n",
       "    }\n",
       "\n",
       "    .dataframe thead th {\n",
       "        text-align: right;\n",
       "    }\n",
       "</style>\n",
       "<table border=\"1\" class=\"dataframe\">\n",
       "  <thead>\n",
       "    <tr style=\"text-align: right;\">\n",
       "      <th></th>\n",
       "      <th>from</th>\n",
       "      <th>processed_subject</th>\n",
       "      <th>processed_body</th>\n",
       "      <th>payload</th>\n",
       "      <th>jericho_human_classification</th>\n",
       "      <th>inbound_event_ids</th>\n",
       "    </tr>\n",
       "  </thead>\n",
       "  <tbody>\n",
       "    <tr>\n",
       "      <th>0</th>\n",
       "      <td>no-reply@rentaequipospiedra.cl</td>\n",
       "      <td>9192-Jerichosecurity: Accept the proposal and ...</td>\n",
       "      <td>Docusign He‌llo sage@jerichosecurity.com\\nYo‌u...</td>\n",
       "      <td>{\"cc\":\"\",\"to\":\"sage@jerichosecurity.com\",\"bcc\"...</td>\n",
       "      <td>phish</td>\n",
       "      <td>208</td>\n",
       "    </tr>\n",
       "    <tr>\n",
       "      <th>1</th>\n",
       "      <td>deep@beeleads.com</td>\n",
       "      <td>Life of a Prospect- A Journey of Multiple Purc...</td>\n",
       "      <td>Life of a Prospect- A Journey of Multiple Purc...</td>\n",
       "      <td>{\"cc\":\"\",\"to\":\"alyssa.davis@jerichosecurity.co...</td>\n",
       "      <td>spam</td>\n",
       "      <td>402</td>\n",
       "    </tr>\n",
       "    <tr>\n",
       "      <th>2</th>\n",
       "      <td>no-reply@zoom.us</td>\n",
       "      <td>Ahmad Anderson has joined your meeting - Sales...</td>\n",
       "      <td>Hi  Madison Martin,  Ahmad Anderson has joined...</td>\n",
       "      <td>{\"cc\":\"\",\"to\":\"madison@jerichosecurity.com\",\"b...</td>\n",
       "      <td>ham</td>\n",
       "      <td>501</td>\n",
       "    </tr>\n",
       "    <tr>\n",
       "      <th>3</th>\n",
       "      <td>telmalogistics@gmail.com</td>\n",
       "      <td>Sage Wohns</td>\n",
       "      <td>Chris\\n---\\n\\nI need you to kindly leave your ...</td>\n",
       "      <td>{\"cc\":\"\",\"to\":\"chris@jerichosecurity.com\",\"bcc...</td>\n",
       "      <td>phish</td>\n",
       "      <td>509</td>\n",
       "    </tr>\n",
       "    <tr>\n",
       "      <th>4</th>\n",
       "      <td>attendurgent@gmail.com</td>\n",
       "      <td>Sage Wohns</td>\n",
       "      <td>Hello Chris,\\n\\n I have a task for you to comp...</td>\n",
       "      <td>{\"cc\":\"\",\"to\":\"chris@jerichosecurity.com\",\"bcc...</td>\n",
       "      <td>phish</td>\n",
       "      <td>638</td>\n",
       "    </tr>\n",
       "  </tbody>\n",
       "</table>\n",
       "</div>"
      ],
      "text/plain": [
       "                             from  \\\n",
       "0  no-reply@rentaequipospiedra.cl   \n",
       "1               deep@beeleads.com   \n",
       "2                no-reply@zoom.us   \n",
       "3        telmalogistics@gmail.com   \n",
       "4          attendurgent@gmail.com   \n",
       "\n",
       "                                   processed_subject  \\\n",
       "0  9192-Jerichosecurity: Accept the proposal and ...   \n",
       "1  Life of a Prospect- A Journey of Multiple Purc...   \n",
       "2  Ahmad Anderson has joined your meeting - Sales...   \n",
       "3                                         Sage Wohns   \n",
       "4                                         Sage Wohns   \n",
       "\n",
       "                                      processed_body  \\\n",
       "0  Docusign He‌llo sage@jerichosecurity.com\\nYo‌u...   \n",
       "1  Life of a Prospect- A Journey of Multiple Purc...   \n",
       "2  Hi  Madison Martin,  Ahmad Anderson has joined...   \n",
       "3  Chris\\n---\\n\\nI need you to kindly leave your ...   \n",
       "4  Hello Chris,\\n\\n I have a task for you to comp...   \n",
       "\n",
       "                                             payload  \\\n",
       "0  {\"cc\":\"\",\"to\":\"sage@jerichosecurity.com\",\"bcc\"...   \n",
       "1  {\"cc\":\"\",\"to\":\"alyssa.davis@jerichosecurity.co...   \n",
       "2  {\"cc\":\"\",\"to\":\"madison@jerichosecurity.com\",\"b...   \n",
       "3  {\"cc\":\"\",\"to\":\"chris@jerichosecurity.com\",\"bcc...   \n",
       "4  {\"cc\":\"\",\"to\":\"chris@jerichosecurity.com\",\"bcc...   \n",
       "\n",
       "  jericho_human_classification  inbound_event_ids  \n",
       "0                        phish                208  \n",
       "1                         spam                402  \n",
       "2                          ham                501  \n",
       "3                        phish                509  \n",
       "4                        phish                638  "
      ]
     },
     "execution_count": 114,
     "metadata": {},
     "output_type": "execute_result"
    }
   ],
   "source": [
    "obj_df = pd.read_csv('email_data.csv')\n",
    "# merge with labels\n",
    "obj_df = obj_df.merge(labels, left_on='id', right_on='inbound_event_ids')\n",
    "obj_df = obj_df.drop(columns=['id_x', 'id_y'])\n",
    "obj_df['processed_body'] = obj_df['processed_body'].astype(str)\n",
    "obj_df['processed_subject'] = obj_df['processed_subject'].astype(str)\n",
    "obj_df['jericho_human_classification'] = obj_df['jericho_human_classification'].astype(str)\n",
    "obj_df['inbound_event_ids'] = obj_df['inbound_event_ids'].astype(int)\n",
    "obj_df.head()"
   ]
  },
  {
   "cell_type": "code",
   "execution_count": 115,
   "metadata": {},
   "outputs": [],
   "source": [
    "# preparation of data\n",
    "from sklearn.model_selection import train_test_split\n",
    "from sklearn.preprocessing import LabelEncoder\n",
    "from sklearn.feature_extraction.text import CountVectorizer\n",
    "from sklearn.feature_extraction.text import TfidfTransformer\n",
    "le = LabelEncoder()\n",
    "cv = CountVectorizer()\n",
    "tfidf = TfidfTransformer()\n",
    "def simplify_text(text):\n",
    "    text = text.lower()\n",
    "    text = text.replace('\\n', ' ')\n",
    "    text = text.replace('\\r', ' ')\n",
    "    text = text.replace('\\t', ' ')\n",
    "    # remove non text characters\n",
    "    text = ''.join([i for i in text if i.isalnum() or i == ' '])\n",
    "    return text\n",
    "def spf_pass(text):\n",
    "    if 'spf=fail' in text:\n",
    "        return -1\n",
    "    elif 'spf=pass' in text:\n",
    "        return 1\n",
    "    else:\n",
    "        return 0\n",
    "def dkim_pass(text):\n",
    "    if 'dkim=fail' in text:\n",
    "        return 0\n",
    "    elif 'dkim=pass' in text:\n",
    "        return 1\n",
    "    else:\n",
    "        return 0\n",
    "def dmarc_pass(text):\n",
    "    if 'dmarc=fail' in text:\n",
    "        return 0\n",
    "    elif 'dmarc=pass' in text:\n",
    "        return 1\n",
    "    else:\n",
    "        return 0\n",
    "\n",
    "simplified_body = obj_df['processed_body'].apply(simplify_text)\n",
    "simplified_subject = obj_df['processed_subject'].apply(simplify_text)\n",
    "vectorized_body = cv.fit_transform(simplified_body)\n",
    "vectorized_subject = cv.fit_transform(simplified_subject)\n",
    "tfidf_body = tfidf.fit_transform(vectorized_body)\n",
    "tfidf_subject = tfidf.fit_transform(vectorized_subject)\n",
    "\n",
    "spf = obj_df['payload'].apply(spf_pass)\n",
    "dkim = obj_df['payload'].apply(dkim_pass)\n",
    "dmarc = obj_df['payload'].apply(dmarc_pass)\n",
    "# encode labels\n",
    "encoder = LabelEncoder()\n",
    "y = encoder.fit_transform(obj_df['jericho_human_classification'])"
   ]
  },
  {
   "cell_type": "code",
   "execution_count": 116,
   "metadata": {},
   "outputs": [
    {
     "name": "stdout",
     "output_type": "stream",
     "text": [
      "[1 1 2 2 2 1 2 0 1 1 2 2 2 2 2 1 0 1 1 0 0 0 2]\n",
      "              precision    recall  f1-score   support\n",
      "\n",
      "           0       0.80      0.50      0.62         8\n",
      "           1       0.88      0.88      0.88         8\n",
      "           2       0.60      0.86      0.71         7\n",
      "\n",
      "    accuracy                           0.74        23\n",
      "   macro avg       0.76      0.74      0.73        23\n",
      "weighted avg       0.77      0.74      0.73        23\n",
      "\n",
      "[[4 1 3]\n",
      " [0 7 1]\n",
      " [1 0 6]]\n"
     ]
    }
   ],
   "source": [
    "# using count vectorizer with GaussianNB\n",
    "combined_features = np.concatenate([vectorized_subject.toarray(), vectorized_body.toarray(), spf.to_numpy().reshape(-1, 1), dkim.to_numpy().reshape(-1, 1), dmarc.to_numpy().reshape(-1, 1)], axis=1)\n",
    "X_train, X_test, y_train, y_test = train_test_split(combined_features, y, test_size=0.3, random_state=42)\n",
    "\n",
    "from sklearn.naive_bayes import GaussianNB\n",
    "from sklearn.metrics import classification_report\n",
    "from sklearn.metrics import confusion_matrix\n",
    "\n",
    "clf = GaussianNB()\n",
    "clf.fit(X_train, y_train)\n",
    "y_pred = clf.predict(X_test)\n",
    "print(y_pred)\n",
    "print(classification_report(y_test, y_pred))\n",
    "print(confusion_matrix(y_test, y_pred))"
   ]
  },
  {
   "cell_type": "code",
   "execution_count": 117,
   "metadata": {},
   "outputs": [
    {
     "name": "stdout",
     "output_type": "stream",
     "text": [
      "[1 1 1 0 2 1 2 1 1 1 2 2 1 2 1 1 0 1 1 0 0 0 0]\n",
      "              precision    recall  f1-score   support\n",
      "\n",
      "           0       0.67      0.50      0.57         8\n",
      "           1       0.58      0.88      0.70         8\n",
      "           2       0.40      0.29      0.33         7\n",
      "\n",
      "    accuracy                           0.57        23\n",
      "   macro avg       0.55      0.55      0.53        23\n",
      "weighted avg       0.56      0.57      0.54        23\n",
      "\n"
     ]
    }
   ],
   "source": [
    "# using tfidf with MultinomialNB\n",
    "from sklearn.naive_bayes import MultinomialNB\n",
    "combined_features = np.concatenate([tfidf_subject.toarray(), tfidf_body.toarray(), spf.to_numpy().reshape(-1, 1), dkim.to_numpy().reshape(-1, 1), dmarc.to_numpy().reshape(-1, 1)], axis=1)\n",
    "X_train, X_test, y_train, y_test = train_test_split(combined_features, y, test_size=0.3, random_state=42)\n",
    "clf = MultinomialNB()\n",
    "clf.fit(X_train, y_train)\n",
    "y_pred = clf.predict(X_test)\n",
    "print(y_pred)\n",
    "print(classification_report(y_test, y_pred))"
   ]
  }
 ],
 "metadata": {
  "kernelspec": {
   "display_name": "Python 3",
   "language": "python",
   "name": "python3"
  },
  "language_info": {
   "codemirror_mode": {
    "name": "ipython",
    "version": 3
   },
   "file_extension": ".py",
   "mimetype": "text/x-python",
   "name": "python",
   "nbconvert_exporter": "python",
   "pygments_lexer": "ipython3",
   "version": "3.8.8"
  }
 },
 "nbformat": 4,
 "nbformat_minor": 2
}
