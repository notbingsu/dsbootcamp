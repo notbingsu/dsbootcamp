{
 "cells": [
  {
   "cell_type": "code",
   "execution_count": 9,
   "metadata": {},
   "outputs": [],
   "source": [
    "import numpy as np\n",
    "import matplotlib.pyplot as plt\n",
    "import pandas as pd"
   ]
  },
  {
   "cell_type": "code",
   "execution_count": 10,
   "metadata": {},
   "outputs": [],
   "source": [
    "# read and parse data\n",
    "df = pd.read_csv('labels_and_ids.csv')\n",
    "df = df.set_index('id')\n",
    "for idx, i in df['inbound_event_ids'].items():\n",
    "    cleaned_value = i.replace('[', '').replace(']', '').split(',')[0]\n",
    "    df.at[idx, 'inbound_event_ids'] = cleaned_value"
   ]
  },
  {
   "cell_type": "code",
   "execution_count": 11,
   "metadata": {},
   "outputs": [
    {
     "name": "stdout",
     "output_type": "stream",
     "text": [
      "590 539 22\n",
      "[156, 160, 226, 229, 261, 317, 325, 333, 338, 404, 414, 423, 436, 450, 452, 471, 490, 508, 510, 511, 517, 545, 546, 549, 578, 581, 588, 601, 603, 610, 641, 645, 653, 657, 671, 690, 710, 728, 836, 862, 863, 898, 912, 922, 953, 994, 1066, 1074, 1089, 1093, 1158, 1171, 1229, 1250, 1293, 1301, 1309, 1330, 1339, 1350, 1395, 1402, 1418, 1463, 1491, 1549, 1550, 1575, 1582, 1622, 1624, 1626, 1636, 1647, 1648, 1653, 1719, 1725, 1785, 1800, 1826, 1831, 1906, 1917, 1919, 1932, 1937, 2015, 2035, 2055, 2074, 2081, 2090, 2100, 2119, 2164, 2172, 2223, 2238, 2253, 2303, 2373, 2388, 2404, 2472, 2488, 2499, 2519, 2558, 2577, 2659, 2683, 2693, 2696, 2727, 2730, 2733, 2764, 2784, 2823, 2825, 2838, 2842, 2858, 2862, 2910, 2943, 2955, 2977, 3000, 3026, 3057, 3067, 3069, 3889, 3900, 3910, 3911, 3974, 3982, 3996, 4014, 4015, 4053, 4058, 4072, 4089, 4152, 4166, 4194, 4197, 4224, 4236, 4368, 4450, 4543, 4553, 4605, 4668, 4675, 4769, 4854, 4916, 4931, 4962, 4968, 4992, 4993, 5016, 5032, 5041, 5061, 5078, 5080, 5108, 5116, 5117, 5132, 5136, 5214, 5223, 5224, 5231, 5237, 5241, 5332, 5335, 5362, 5367, 5368, 5393, 5397, 5398, 5402, 5424, 5431, 5461, 5482, 5494, 5512, 5515, 5528, 5532, 5546, 5561, 5569, 5599, 5634, 5652, 5678, 5686, 5705, 5711, 5729, 5731, 5749, 5758, 5761, 5856, 5864, 5896, 5900, 5905, 5920, 5925, 5932, 5935, 5981, 6003, 6005, 6047, 6057, 6059, 6065, 6118, 6154, 6159, 6195, 6197, 6205, 6267, 6291, 6299, 6315, 6367, 6393, 6414, 6449, 6472, 6488, 6502, 6504, 6586, 6614, 6627, 6632, 6655, 6663, 6787, 6788, 6812, 6815, 6818, 6854, 6886, 6889, 6919, 6922, 6983, 7019, 7054, 7092, 7096, 7115, 7126, 7129, 7208, 7218, 7292, 7317, 7373, 7374, 7376, 7377, 7383, 7431, 7452, 7482, 7498, 7538, 7617, 7628, 7673, 7683, 7696, 7699, 7704, 7705, 7711, 7717, 7718, 7722, 7728, 7735, 7760, 7765, 7776, 7778, 7809, 7821, 7830, 7846, 7861, 7896, 7899, 7920, 7921, 7962, 7970, 7999, 8003, 8068, 8090, 8100, 8113, 8118, 8133, 8143, 8164, 8165, 8243, 8249, 8253, 8297, 8315, 8316, 8322, 8329, 8334, 8357, 8362, 8377, 8432, 8455, 8467, 8486, 8488, 8552, 8556, 8561, 8608, 8611, 8702, 8720, 8768, 8775, 8857, 8862, 8865, 8876, 8926, 8927, 8928, 8965, 8980, 9002, 9004, 9010, 9035, 9078, 9081, 9111, 9114, 9119, 9124, 9156, 9163, 9172, 9176, 9177, 9179, 9190, 9203, 9210, 9216, 9226, 9238, 9245, 9272, 9276, 9287, 9291, 9304, 9305, 9311, 9313, 9321, 9333, 9345, 9358, 9370, 9383, 9393, 9397, 9429, 9438, 9482, 9487, 9546, 9559, 9646, 9652, 9751, 9825, 9827, 9850, 9894, 9917, 9923, 9932, 9949, 9950, 9997, 10028, 10035, 10054, 10072, 10123, 10158, 10184, 10241, 10256, 10267, 10268, 10296, 10298, 10320, 10322, 10331, 10344, 10418, 10420, 10421, 10443, 10459, 10465, 10473, 10488, 10493, 10658, 10670, 10679, 10688, 10747, 10767, 10825, 10826, 10827, 10924, 10953, 11088, 11094, 11095, 11142, 11146, 11237, 11262, 11345, 11351, 11363, 11375, 11378, 11393, 11406, 11417, 11425, 11433, 11459, 11477, 11544, 11564, 11565, 11648, 11655, 11688, 11689, 11700, 11734, 11832, 11837, 11840, 11843, 11844, 11856, 11924, 11937, 11949, 11955, 11961, 11966]\n",
      "[127, 128, 166, 308, 319, 335, 389, 392, 399, 400, 402, 405, 406, 438, 441, 465, 469, 475, 480, 487, 492, 493, 502, 506, 536, 544, 553, 577, 584, 598, 604, 829, 831, 846, 847, 858, 860, 864, 889, 948, 985, 990, 1039, 1088, 1130, 1145, 1151, 1180, 1224, 1230, 1237, 1243, 1245, 1247, 1248, 1258, 1261, 1271, 1291, 1296, 1312, 1313, 1315, 1398, 1439, 1441, 1454, 1552, 1589, 1623, 1673, 1676, 1685, 1695, 1698, 1702, 1707, 1771, 1776, 1779, 1810, 1817, 1829, 1989, 2061, 2064, 2137, 2150, 2165, 2167, 2185, 2202, 2204, 2208, 2246, 2251, 2258, 2283, 2310, 2329, 2339, 2340, 2343, 2363, 2380, 2387, 2420, 2473, 2566, 2567, 2655, 2664, 2676, 2679, 2682, 2697, 2700, 2722, 2726, 2751, 2757, 2768, 2772, 2776, 2780, 2792, 2826, 2851, 2863, 2912, 2917, 3005, 3029, 3047, 3080, 3918, 3919, 3920, 3921, 3937, 3941, 3943, 3949, 3986, 4020, 4057, 4059, 4063, 4079, 4080, 4083, 4095, 4120, 4176, 4178, 4214, 4253, 4264, 4317, 4363, 4379, 4409, 4456, 4526, 4530, 4537, 4544, 4594, 4647, 4731, 4763, 4823, 4843, 4881, 4899, 4908, 4949, 4997, 5010, 5011, 5013, 5019, 5065, 5103, 5122, 5145, 5157, 5163, 5236, 5238, 5249, 5265, 5292, 5342, 5425, 5536, 5559, 5566, 5585, 5598, 5604, 5621, 5653, 5713, 5726, 5728, 5740, 5751, 5754, 5760, 5772, 5815, 5840, 5899, 6061, 6067, 6075, 6086, 6113, 6122, 6173, 6298, 6307, 6316, 6345, 6351, 6430, 6439, 6443, 6484, 6487, 6494, 6498, 6523, 6552, 6621, 6676, 6802, 6826, 6834, 6838, 6847, 6859, 6863, 6870, 6895, 6899, 6901, 6948, 6961, 7017, 7018, 7049, 7121, 7149, 7243, 7259, 7263, 7314, 7323, 7327, 7334, 7341, 7388, 7468, 7479, 7480, 7495, 7537, 7557, 7558, 7562, 7576, 7595, 7713, 7817, 7850, 7911, 7930, 7931, 7958, 7959, 7968, 8000, 8013, 8039, 8047, 8060, 8077, 8084, 8087, 8149, 8160, 8192, 8263, 8299, 8557, 8585, 8594, 8607, 8616, 8652, 8656, 8657, 8659, 8692, 8706, 8724, 8773, 8782, 8803, 8806, 8821, 8851, 8866, 8875, 8899, 8900, 8929, 8939, 8941, 8942, 8950, 8993, 9008, 9165, 9191, 9244, 9252, 9255, 9264, 9368, 9375, 9377, 9405, 9502, 9506, 9516, 9525, 9541, 9558, 9560, 9610, 9627, 9648, 9674, 9713, 9740, 9836, 9863, 9870, 9881, 9981, 9989, 10012, 10014, 10015, 10027, 10037, 10039, 10042, 10052, 10055, 10056, 10082, 10112, 10122, 10128, 10178, 10192, 10208, 10214, 10329, 10333, 10379, 10396, 10419, 10422, 10442, 10464, 10468, 10505, 10516, 10562, 10570, 10576, 10581, 10588, 10594, 10609, 10613, 10617, 10842, 10879, 10880, 10886, 10888, 10889, 10893, 10898, 10902, 10907, 10909, 10910, 10913, 10933, 10946, 11041, 11042, 11044, 11110, 11220, 11261, 11268, 11269, 11271, 11279, 11310, 11313, 11315, 11319, 11341, 11353, 11388, 11394, 11396, 11441, 11448, 11468, 11515, 11516, 11519, 11535, 11719, 11721, 11735, 11741, 11773, 11783, 11814, 11815, 11830, 11842, 11853, 11883, 11888, 11902, 11918, 11922, 11950, 11968, 11970, 11972, 12004, 12074, 12085, 12102, 12132, 12152, 12154, 12218, 12223, 12233, 12234, 12235, 12238, 12252, 12354, 12360, 12363, 12366, 12392, 12429, 12471, 12548, 12554, 12564, 12584, 12596, 12610, 12653, 12658, 12733, 12762, 12840, 12843, 12847, 12878, 12952, 12980, 13041, 13066, 13182, 13187, 13188, 13202, 13206, 13207, 13216, 13222]\n"
     ]
    }
   ],
   "source": [
    "# group data by jericho_human_classification\n",
    "grouped = df.groupby(['jericho_human_classification'])['inbound_event_ids'].apply(list)\n",
    "ham_list = grouped['ham']\n",
    "spam_list = grouped['spam']\n",
    "phish_list = grouped['phish']\n",
    "ham_list = sorted([int(i) for i in ham_list])\n",
    "spam_list = sorted([int(i) for i in spam_list])\n",
    "phish_list = sorted([int(i) for i in phish_list])\n",
    "print(len(ham_list), len(spam_list), len(phish_list))\n",
    "# get first 500 ids in each category\n",
    "print(ham_list[:500])\n",
    "print(spam_list[:500])"
   ]
  },
  {
   "cell_type": "markdown",
   "metadata": {},
   "source": [
    "The list of spam and ham are used to extract relevant entries from the heroku database as training data."
   ]
  },
  {
   "cell_type": "code",
   "execution_count": 12,
   "metadata": {},
   "outputs": [
    {
     "data": {
      "text/html": [
       "<div>\n",
       "<style scoped>\n",
       "    .dataframe tbody tr th:only-of-type {\n",
       "        vertical-align: middle;\n",
       "    }\n",
       "\n",
       "    .dataframe tbody tr th {\n",
       "        vertical-align: top;\n",
       "    }\n",
       "\n",
       "    .dataframe thead th {\n",
       "        text-align: right;\n",
       "    }\n",
       "</style>\n",
       "<table border=\"1\" class=\"dataframe\">\n",
       "  <thead>\n",
       "    <tr style=\"text-align: right;\">\n",
       "      <th></th>\n",
       "      <th>jericho_human_classification</th>\n",
       "      <th>id</th>\n",
       "      <th>id</th>\n",
       "      <th>category</th>\n",
       "      <th>from</th>\n",
       "      <th>processed_body</th>\n",
       "      <th>processed_subject</th>\n",
       "    </tr>\n",
       "  </thead>\n",
       "  <tbody>\n",
       "    <tr>\n",
       "      <th>0</th>\n",
       "      <td>ham</td>\n",
       "      <td>11984</td>\n",
       "      <td>11984</td>\n",
       "      <td>bcc_email_sec_inbound</td>\n",
       "      <td>noreply@notifications.hubspot.com</td>\n",
       "      <td>Your Campaigns export &amp;quot;Campaigns Reportin...</td>\n",
       "      <td>Your Campaigns export \"Campaigns Reporting Exp...</td>\n",
       "    </tr>\n",
       "    <tr>\n",
       "      <th>1</th>\n",
       "      <td>ham</td>\n",
       "      <td>11988</td>\n",
       "      <td>11988</td>\n",
       "      <td>bcc_email_sec_inbound</td>\n",
       "      <td>noreply@notifications.hubspot.com</td>\n",
       "      <td>Your  export &amp;quot;Manu_Project_Knowbe4_21-05-...</td>\n",
       "      <td>Your  export \"Manu_Project_Knowbe4_21-05-2024 ...</td>\n",
       "    </tr>\n",
       "    <tr>\n",
       "      <th>2</th>\n",
       "      <td>ham</td>\n",
       "      <td>11989</td>\n",
       "      <td>11989</td>\n",
       "      <td>bcc_email_sec_inbound</td>\n",
       "      <td>noreply@notifications.hubspot.com</td>\n",
       "      <td>Your  export &amp;quot;Lead2Pipeline Static List &amp;...</td>\n",
       "      <td>Your  export \"Lead2Pipeline Static List (Campa...</td>\n",
       "    </tr>\n",
       "    <tr>\n",
       "      <th>3</th>\n",
       "      <td>ham</td>\n",
       "      <td>11997</td>\n",
       "      <td>11997</td>\n",
       "      <td>bcc_email_sec_inbound</td>\n",
       "      <td>noreply@notifications.hubspot.com</td>\n",
       "      <td>Your  export &amp;quot;Manu_Project_Knowbe4_21-05-...</td>\n",
       "      <td>Your  export \"Manu_Project_Knowbe4_21-05-2024 ...</td>\n",
       "    </tr>\n",
       "    <tr>\n",
       "      <th>4</th>\n",
       "      <td>ham</td>\n",
       "      <td>12000</td>\n",
       "      <td>12000</td>\n",
       "      <td>bcc_email_sec_inbound</td>\n",
       "      <td>noreply@notifications.hubspot.com</td>\n",
       "      <td>Your  export &amp;quot;Manu_Project_Knowbe4_21-05-...</td>\n",
       "      <td>Your  export \"Manu_Project_Knowbe4_21-05-2024 ...</td>\n",
       "    </tr>\n",
       "  </tbody>\n",
       "</table>\n",
       "</div>"
      ],
      "text/plain": [
       "  jericho_human_classification     id     id               category  \\\n",
       "0                          ham  11984  11984  bcc_email_sec_inbound   \n",
       "1                          ham  11988  11988  bcc_email_sec_inbound   \n",
       "2                          ham  11989  11989  bcc_email_sec_inbound   \n",
       "3                          ham  11997  11997  bcc_email_sec_inbound   \n",
       "4                          ham  12000  12000  bcc_email_sec_inbound   \n",
       "\n",
       "                                from  \\\n",
       "0  noreply@notifications.hubspot.com   \n",
       "1  noreply@notifications.hubspot.com   \n",
       "2  noreply@notifications.hubspot.com   \n",
       "3  noreply@notifications.hubspot.com   \n",
       "4  noreply@notifications.hubspot.com   \n",
       "\n",
       "                                      processed_body  \\\n",
       "0  Your Campaigns export &quot;Campaigns Reportin...   \n",
       "1  Your  export &quot;Manu_Project_Knowbe4_21-05-...   \n",
       "2  Your  export &quot;Lead2Pipeline Static List &...   \n",
       "3  Your  export &quot;Manu_Project_Knowbe4_21-05-...   \n",
       "4  Your  export &quot;Manu_Project_Knowbe4_21-05-...   \n",
       "\n",
       "                                   processed_subject  \n",
       "0  Your Campaigns export \"Campaigns Reporting Exp...  \n",
       "1  Your  export \"Manu_Project_Knowbe4_21-05-2024 ...  \n",
       "2  Your  export \"Lead2Pipeline Static List (Campa...  \n",
       "3  Your  export \"Manu_Project_Knowbe4_21-05-2024 ...  \n",
       "4  Your  export \"Manu_Project_Knowbe4_21-05-2024 ...  "
      ]
     },
     "execution_count": 12,
     "metadata": {},
     "output_type": "execute_result"
    }
   ],
   "source": [
    "ham_test = ham_list[500:]\n",
    "ham_test = np.column_stack((['ham'] * len(ham_test), ham_test))\n",
    "spam_test = spam_list[500:]\n",
    "spam_test = np.column_stack((['spam'] * len(spam_test), spam_test))\n",
    "test_df = pd.DataFrame(np.concatenate((ham_test, spam_test), axis=0), columns=['jericho_human_classification', 'id'])\n",
    "test_data_df = pd.read_csv('inbound_test.csv')\n",
    "merged_test_df = pd.concat([test_df, test_data_df], axis=1)\n",
    "merged_test_df.head()"
   ]
  },
  {
   "cell_type": "code",
   "execution_count": 13,
   "metadata": {},
   "outputs": [
    {
     "data": {
      "text/plain": [
       "<matplotlib.legend.Legend at 0x1c49e1201f0>"
      ]
     },
     "execution_count": 13,
     "metadata": {},
     "output_type": "execute_result"
    },
    {
     "data": {
      "image/png": "[encoded data removed]",
      "text/plain": [
       "<Figure size 640x480 with 1 Axes>"
      ]
     },
     "metadata": {},
     "output_type": "display_data"
    }
   ],
   "source": [
    "ham_data = pd.read_csv('labelled_ham.csv')\n",
    "spam_data = pd.read_csv('labelled_spam.csv')\n",
    "ham_subject_len = ham_data['processed_subject'].apply(len)\n",
    "spam_subject_len = spam_data['processed_subject'].apply(len)\n",
    "np.histogram(ham_subject_len, bins=10)\n",
    "np.histogram(spam_subject_len, bins=10)\n",
    "plt.hist(ham_subject_len, bins=10)\n",
    "plt.hist(spam_subject_len, bins=10)\n",
    "# add legend\n",
    "plt.legend(['ham', 'spam'])"
   ]
  },
  {
   "cell_type": "code",
   "execution_count": 14,
   "metadata": {},
   "outputs": [
    {
     "data": {
      "text/plain": [
       "<matplotlib.legend.Legend at 0x1c49e122da0>"
      ]
     },
     "execution_count": 14,
     "metadata": {},
     "output_type": "execute_result"
    },
    {
     "data": {
      "image/png": "[encoded data removed]",
      "text/plain": [
       "<Figure size 640x480 with 1 Axes>"
      ]
     },
     "metadata": {},
     "output_type": "display_data"
    }
   ],
   "source": [
    "# train on ham and spam data\n",
    "ham_data['jericho_human_classification'] = 'ham'\n",
    "spam_data['jericho_human_classification'] = 'spam'\n",
    "plt.scatter(ham_data['processed_subject'].apply(len), ham_data['processed_body'].apply(len), c='blue')\n",
    "plt.scatter(spam_data['processed_subject'].apply(len), spam_data['processed_body'].apply(len), c='red')\n",
    "plt.xlabel('subject length')\n",
    "plt.ylabel('body length')\n",
    "plt.legend(['ham', 'spam'])\n"
   ]
  },
  {
   "cell_type": "code",
   "execution_count": 15,
   "metadata": {},
   "outputs": [],
   "source": [
    "from sklearn import tree\n",
    "merged_data = pd.concat([ham_data, spam_data], axis=0)\n",
    "training_data = pd.DataFrame()\n",
    "training_data['jericho_human_classification'] = merged_data['jericho_human_classification'].apply(lambda x: 1 if x == 'ham' else 0)\n",
    "training_data['processed_body'] = merged_data['processed_body'].apply(len)\n",
    "training_data['processed_subject'] = merged_data['processed_subject'].apply(len)\n",
    "X = training_data[['processed_subject', 'processed_body']]\n",
    "Y = training_data['jericho_human_classification']\n",
    "clf = tree.DecisionTreeClassifier()\n",
    "clf = clf.fit(X, Y)"
   ]
  },
  {
   "cell_type": "code",
   "execution_count": 18,
   "metadata": {},
   "outputs": [
    {
     "data": {
      "text/html": [
       "<div>\n",
       "<style scoped>\n",
       "    .dataframe tbody tr th:only-of-type {\n",
       "        vertical-align: middle;\n",
       "    }\n",
       "\n",
       "    .dataframe tbody tr th {\n",
       "        vertical-align: top;\n",
       "    }\n",
       "\n",
       "    .dataframe thead th {\n",
       "        text-align: right;\n",
       "    }\n",
       "</style>\n",
       "<table border=\"1\" class=\"dataframe\">\n",
       "  <thead>\n",
       "    <tr style=\"text-align: right;\">\n",
       "      <th></th>\n",
       "      <th>test_classification</th>\n",
       "    </tr>\n",
       "  </thead>\n",
       "  <tbody>\n",
       "    <tr>\n",
       "      <th>0</th>\n",
       "      <td>1</td>\n",
       "    </tr>\n",
       "    <tr>\n",
       "      <th>1</th>\n",
       "      <td>1</td>\n",
       "    </tr>\n",
       "    <tr>\n",
       "      <th>2</th>\n",
       "      <td>1</td>\n",
       "    </tr>\n",
       "    <tr>\n",
       "      <th>3</th>\n",
       "      <td>1</td>\n",
       "    </tr>\n",
       "    <tr>\n",
       "      <th>4</th>\n",
       "      <td>1</td>\n",
       "    </tr>\n",
       "  </tbody>\n",
       "</table>\n",
       "</div>"
      ],
      "text/plain": [
       "   test_classification\n",
       "0                    1\n",
       "1                    1\n",
       "2                    1\n",
       "3                    1\n",
       "4                    1"
      ]
     },
     "execution_count": 18,
     "metadata": {},
     "output_type": "execute_result"
    }
   ],
   "source": [
    "parsed_merged_test = pd.DataFrame()\n",
    "parsed_merged_test['processed_body'] = merged_test_df['processed_body'].apply(len)\n",
    "parsed_merged_test['processed_subject'] = merged_test_df['processed_subject'].apply(len)\n",
    "test_result = clf.predict(parsed_merged_test[['processed_subject', 'processed_body']])\n",
    "test_result = pd.DataFrame(test_result, columns=['test_classification'])\n",
    "test_result.head()\n"
   ]
  },
  {
   "cell_type": "code",
   "execution_count": 24,
   "metadata": {},
   "outputs": [
    {
     "name": "stdout",
     "output_type": "stream",
     "text": [
      "accuracy:  0.6046511627906976\n",
      "precision:  0.39285714285714285\n"
     ]
    }
   ],
   "source": [
    "# confusion matrix\n",
    "from sklearn.metrics import confusion_matrix\n",
    "cf = confusion_matrix(merged_test_df['jericho_human_classification'].apply(lambda x: 1 if x == 'ham' else 0), test_result['test_classification'])\n",
    "accuracy = (cf[0][0] + cf[1][1]) / np.sum(cf)\n",
    "precision = cf[0][0] / (cf[0][0] + cf[1][0])\n",
    "print(\"accuracy: \", accuracy)\n",
    "print(\"precision: \", precision)\n"
   ]
  }
 ],
 "metadata": {
  "kernelspec": {
   "display_name": ".venv",
   "language": "python",
   "name": "python3"
  },
  "language_info": {
   "codemirror_mode": {
    "name": "ipython",
    "version": 3
   },
   "file_extension": ".py",
   "mimetype": "text/x-python",
   "name": "python",
   "nbconvert_exporter": "python",
   "pygments_lexer": "ipython3",
   "version": "3.10.7"
  }
 },
 "nbformat": 4,
 "nbformat_minor": 2
}
